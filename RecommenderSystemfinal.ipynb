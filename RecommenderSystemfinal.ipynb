{
  "nbformat": 4,
  "nbformat_minor": 0,
  "metadata": {
    "kernelspec": {
      "display_name": "Python 3",
      "language": "python",
      "name": "python3"
    },
    "language_info": {
      "codemirror_mode": {
        "name": "ipython",
        "version": 3
      },
      "file_extension": ".py",
      "mimetype": "text/x-python",
      "name": "python",
      "nbconvert_exporter": "python",
      "pygments_lexer": "ipython3",
      "version": "3.7.7"
    },
    "colab": {
      "name": "RecommenderSystemfinal.ipynb",
      "provenance": [],
      "collapsed_sections": []
    }
  },
  "cells": [
    {
      "cell_type": "markdown",
      "metadata": {
        "id": "gEXd34MmjvJK"
      },
      "source": [
        "# Amazon Apparel Recommendation"
      ]
    },
    {
      "cell_type": "code",
      "metadata": {
        "id": "Q4ipwSKFjvJN"
      },
      "source": [
        "import numpy as np\n",
        "import pandas as pd\n",
        "import pickle\n"
      ],
      "execution_count": null,
      "outputs": []
    },
    {
      "cell_type": "markdown",
      "metadata": {
        "id": "cU6BNcfFjvJZ"
      },
      "source": [
        "# OverView of the Data"
      ]
    },
    {
      "cell_type": "code",
      "metadata": {
        "id": "CT8hL1RH5ZRG",
        "colab": {
          "base_uri": "https://localhost:8080/"
        },
        "outputId": "254a4fdd-6025-48dd-ff5b-a5cc02d561b4"
      },
      "source": [
        "from google.colab import drive\n",
        "drive.mount('/content/drive')"
      ],
      "execution_count": null,
      "outputs": [
        {
          "output_type": "stream",
          "text": [
            "Mounted at /content/drive\n"
          ],
          "name": "stdout"
        }
      ]
    },
    {
      "cell_type": "code",
      "metadata": {
        "id": "nGi9ACucjvJa"
      },
      "source": [
        "dataframe = pd.read_json(\"/content/drive/My Drive/recommendor/tops_fashion.json\")\n",
        "dataframe.head()"
      ],
      "execution_count": null,
      "outputs": []
    },
    {
      "cell_type": "markdown",
      "metadata": {
        "id": "h0FGSpV9jvJl"
      },
      "source": [
        "# 1 Data Preprocessing"
      ]
    },
    {
      "cell_type": "markdown",
      "metadata": {
        "id": "zMUvFKDzjvJn"
      },
      "source": [
        " ## 1.1 Determining the size of the Data\n",
        "     Here we take only seven important columns which will influence our recommendation system . \n",
        "     The seven columns are :\n",
        "         \"asin\"\n",
        "         \"brand\"\n",
        "         \"color\"\n",
        "         \"product_type_name\"\n",
        "         \"medium_image_url\"\n",
        "         \"title\"\n",
        "         \"formatted_price\"\n",
        "\n",
        "         \n"
      ]
    },
    {
      "cell_type": "code",
      "metadata": {
        "id": "7Rqna6_wjvJo"
      },
      "source": [
        "dataframe = dataframe.loc[:,[\"asin\",\"brand\",\"color\",\"product_type_name\",\"medium_image_url\",\"title\",\"formatted_price\"]]\n",
        "dataframe.shape"
      ],
      "execution_count": null,
      "outputs": []
    },
    {
      "cell_type": "markdown",
      "metadata": {
        "id": "iFxI6Q0NjvJs"
      },
      "source": [
        "## 1.2 Removal of rows which have value None in some columns and rows\n",
        "   We will filter the rows whose value in the corresponding columns \"title\",\"formatted_price\" and \"color\" are None .\n",
        "   It reduces the size to ~28000 .\n",
        "   We store it in a pickle file ."
      ]
    },
    {
      "cell_type": "code",
      "metadata": {
        "id": "P8lSvryYjvJt"
      },
      "source": [
        "df = dataframe.dropna(axis = 0, how = 'any', subset = [\"title\",\"formatted_price\",\"color\"])\n",
        "print(df.shape)\n",
        "df.to_pickle('pickels/28k_apparel')"
      ],
      "execution_count": null,
      "outputs": []
    },
    {
      "cell_type": "markdown",
      "metadata": {
        "id": "eV2iFQW1jvJx"
      },
      "source": [
        "## 1.3 Filtering Rows Whose Title has less then 5 words\n",
        "    It reduces the data to ~ 27000 .\n",
        "    We store it in the pickle file ."
      ]
    },
    {
      "cell_type": "code",
      "metadata": {
        "id": "6wuelLXzjvJy"
      },
      "source": [
        "def CountWords(sentences):\n",
        "    sentences = sentences.split()\n",
        "    count = 0\n",
        "    for words in sentences:\n",
        "        count += 1\n",
        "    return count"
      ],
      "execution_count": null,
      "outputs": []
    },
    {
      "cell_type": "code",
      "metadata": {
        "id": "WzXZhh7gjvJ1"
      },
      "source": [
        "df = df[df[\"title\"].apply(CountWords)>5]\n",
        "print(df.shape)\n",
        "df.to_pickle('pickels/27k_apparel')"
      ],
      "execution_count": null,
      "outputs": []
    },
    {
      "cell_type": "markdown",
      "metadata": {
        "id": "Bn92IXG7jvJ4"
      },
      "source": [
        "## 1.4 De-Duplication of the Data \n",
        "    Steps for de-duping data\n",
        "        1. We Sort the whole data based on title alphabetically This will help capture size and title discrepancies\n",
        "        2.We Put all words in T1 in a set and all words of T2 in a set then apply set difference if they differ in \n",
        "        <=2  words \n",
        "        3.After this around 17593 data points will be left  = 17K apparel\n",
        "        4.Here it is very important for you to look at data :\n",
        "            Women v/s Ladies similarity\n",
        "                  Not good if we recommend title 2 corresponding to title 1. This is like being near duplicates not                     exactly duplicates\n",
        "\n",
        "\n",
        "        5.After this size reduces to 16K products\n"
      ]
    },
    {
      "cell_type": "code",
      "metadata": {
        "id": "frway0EOjvJ4"
      },
      "source": [
        "df = df.sort_values(by='title')\n",
        "df.head()"
      ],
      "execution_count": null,
      "outputs": []
    },
    {
      "cell_type": "code",
      "metadata": {
        "id": "OA2fZWRWjvJ6"
      },
      "source": [
        "indices = []\n",
        "for i,row in df.iterrows():\n",
        "    indices.append(i)\n",
        "\n"
      ],
      "execution_count": null,
      "outputs": []
    },
    {
      "cell_type": "code",
      "metadata": {
        "id": "Jn4gIkkZjvJ8"
      },
      "source": [
        "import itertools\n",
        "stage1 = []\n",
        "i = 0\n",
        "j = 0\n",
        "num_of_rows = df.shape[0]\n",
        "while i < num_of_rows and j < num_of_rows:\n",
        "    prev_i = i\n",
        "    a = df['title'].loc[indices[i]].split()\n",
        "    j = i+1\n",
        "    while j < num_of_rows:\n",
        "        b = df['title'].loc[indices[j]].split()\n",
        "        length = max(len(a), len(b))\n",
        "        count  = 0\n",
        "        for k in itertools.zip_longest(a,b): \n",
        "            if (k[0] == k[1]):\n",
        "                count += 1\n",
        "        if (length - count) > 2: \n",
        "            stage1.append(df['asin'].loc[indices[i]])\n",
        "            if j == num_of_rows-1: \n",
        "                stage1.append(df['asin'].loc[indices[j]])\n",
        "            i = j\n",
        "            break\n",
        "        else:\n",
        "            j += 1\n",
        "    if prev_i == i:\n",
        "        break"
      ],
      "execution_count": null,
      "outputs": []
    },
    {
      "cell_type": "code",
      "metadata": {
        "scrolled": true,
        "id": "hdGE0rLjjvJ_"
      },
      "source": [
        "df = df[df['asin'].isin(stage1)]\n",
        "print(df.shape)\n",
        "df.to_pickle('pickels/17k_apparel')"
      ],
      "execution_count": null,
      "outputs": []
    },
    {
      "cell_type": "code",
      "metadata": {
        "id": "tA5eIRSUjvKB"
      },
      "source": [
        "indices = []\n",
        "for i,row in df.iterrows():\n",
        "    indices.append(i)\n",
        "stage2 = []\n",
        "while len(indices)!=0:\n",
        "    i = indices.pop()\n",
        "    stage2.append(df['asin'].loc[i])\n",
        "    a = df['title'].loc[i].split()\n",
        "    for j in indices:\n",
        "        b = df['title'].loc[j].split()\n",
        "        length = max(len(a),len(b))\n",
        "        count = 0\n",
        "        for k in itertools.zip_longest(a,b):\n",
        "            if(k[0]==k[1]):\n",
        "                count += 1\n",
        "        if((length-count)<3):\n",
        "            indices.remove(j)"
      ],
      "execution_count": null,
      "outputs": []
    },
    {
      "cell_type": "code",
      "metadata": {
        "id": "kNxA9IeWjvKC"
      },
      "source": [
        "df = df[df['asin'].isin(stage2)]\n",
        "print(df.shape)\n",
        "df.to_pickle('pickels/16k_apparel')\n",
        "       \n",
        "        \n",
        "    "
      ],
      "execution_count": null,
      "outputs": []
    },
    {
      "cell_type": "markdown",
      "metadata": {
        "id": "iDlk1EXojvKE"
      },
      "source": [
        "# 2 . Text Based Reccomendation System"
      ]
    },
    {
      "cell_type": "code",
      "metadata": {
        "id": "iCXma9WcjvKF",
        "colab": {
          "base_uri": "https://localhost:8080/"
        },
        "outputId": "3f2f8dee-7684-46e3-ab93-278ea3ae1881"
      },
      "source": [
        "data = pd.read_pickle('/content/drive/My Drive/recommendor/16k_apperal_data')\n",
        "data.shape"
      ],
      "execution_count": null,
      "outputs": [
        {
          "output_type": "execute_result",
          "data": {
            "text/plain": [
              "(16042, 7)"
            ]
          },
          "metadata": {
            "tags": []
          },
          "execution_count": 4
        }
      ]
    },
    {
      "cell_type": "code",
      "metadata": {
        "id": "HWSzLG9KjvKI",
        "colab": {
          "base_uri": "https://localhost:8080/"
        },
        "outputId": "ba932c46-c347-439f-da7b-cc55da719e24"
      },
      "source": [
        "data['title'] = data['title'].str.lower()\n",
        "len(data)\n"
      ],
      "execution_count": null,
      "outputs": [
        {
          "output_type": "execute_result",
          "data": {
            "text/plain": [
              "16042"
            ]
          },
          "metadata": {
            "tags": []
          },
          "execution_count": 5
        }
      ]
    },
    {
      "cell_type": "code",
      "metadata": {
        "id": "3AxzKnBTjvKK",
        "colab": {
          "base_uri": "https://localhost:8080/",
          "height": 323
        },
        "outputId": "68468634-3dd4-4984-8956-11f678430cbb"
      },
      "source": [
        "import re\n",
        "import nltk\n",
        "nltk.download('stopwords')\n",
        "from nltk.corpus import stopwords\n",
        "corpus = []\n",
        "for i in range(0,len(data)):\n",
        "    title = re.sub('[^a-zA-Z]',' ', data.iloc[i]['title'])\n",
        "    title = title.lower()\n",
        "    title = title.split()\n",
        "    title = ' '.join(title)\n",
        "    data.iloc[i]['title'] = title\n",
        "data.head()"
      ],
      "execution_count": null,
      "outputs": [
        {
          "output_type": "stream",
          "text": [
            "[nltk_data] Downloading package stopwords to /root/nltk_data...\n",
            "[nltk_data]   Unzipping corpora/stopwords.zip.\n"
          ],
          "name": "stdout"
        },
        {
          "output_type": "execute_result",
          "data": {
            "text/html": [
              "<div>\n",
              "<style scoped>\n",
              "    .dataframe tbody tr th:only-of-type {\n",
              "        vertical-align: middle;\n",
              "    }\n",
              "\n",
              "    .dataframe tbody tr th {\n",
              "        vertical-align: top;\n",
              "    }\n",
              "\n",
              "    .dataframe thead th {\n",
              "        text-align: right;\n",
              "    }\n",
              "</style>\n",
              "<table border=\"1\" class=\"dataframe\">\n",
              "  <thead>\n",
              "    <tr style=\"text-align: right;\">\n",
              "      <th></th>\n",
              "      <th>asin</th>\n",
              "      <th>brand</th>\n",
              "      <th>color</th>\n",
              "      <th>medium_image_url</th>\n",
              "      <th>product_type_name</th>\n",
              "      <th>title</th>\n",
              "      <th>formatted_price</th>\n",
              "    </tr>\n",
              "  </thead>\n",
              "  <tbody>\n",
              "    <tr>\n",
              "      <th>4</th>\n",
              "      <td>B004GSI2OS</td>\n",
              "      <td>FeatherLite</td>\n",
              "      <td>Onyx Black/ Stone</td>\n",
              "      <td>https://images-na.ssl-images-amazon.com/images...</td>\n",
              "      <td>SHIRT</td>\n",
              "      <td>featherlite ladies long sleeve stain resistant...</td>\n",
              "      <td>$26.26</td>\n",
              "    </tr>\n",
              "    <tr>\n",
              "      <th>6</th>\n",
              "      <td>B012YX2ZPI</td>\n",
              "      <td>HX-Kingdom Fashion T-shirts</td>\n",
              "      <td>White</td>\n",
              "      <td>https://images-na.ssl-images-amazon.com/images...</td>\n",
              "      <td>SHIRT</td>\n",
              "      <td>women s unique cotton t special olympics world...</td>\n",
              "      <td>$9.99</td>\n",
              "    </tr>\n",
              "    <tr>\n",
              "      <th>15</th>\n",
              "      <td>B003BSRPB0</td>\n",
              "      <td>FeatherLite</td>\n",
              "      <td>White</td>\n",
              "      <td>https://images-na.ssl-images-amazon.com/images...</td>\n",
              "      <td>SHIRT</td>\n",
              "      <td>featherlite ladies moisture free mesh sport sh...</td>\n",
              "      <td>$20.54</td>\n",
              "    </tr>\n",
              "    <tr>\n",
              "      <th>27</th>\n",
              "      <td>B014ICEJ1Q</td>\n",
              "      <td>FNC7C</td>\n",
              "      <td>Purple</td>\n",
              "      <td>https://images-na.ssl-images-amazon.com/images...</td>\n",
              "      <td>SHIRT</td>\n",
              "      <td>supernatural chibis sam dean and castiel o nec...</td>\n",
              "      <td>$7.39</td>\n",
              "    </tr>\n",
              "    <tr>\n",
              "      <th>46</th>\n",
              "      <td>B01NACPBG2</td>\n",
              "      <td>Fifth Degree</td>\n",
              "      <td>Black</td>\n",
              "      <td>https://images-na.ssl-images-amazon.com/images...</td>\n",
              "      <td>SHIRT</td>\n",
              "      <td>fifth degree womens gold foil graphic tees jun...</td>\n",
              "      <td>$6.95</td>\n",
              "    </tr>\n",
              "  </tbody>\n",
              "</table>\n",
              "</div>"
            ],
            "text/plain": [
              "          asin  ... formatted_price\n",
              "4   B004GSI2OS  ...          $26.26\n",
              "6   B012YX2ZPI  ...           $9.99\n",
              "15  B003BSRPB0  ...          $20.54\n",
              "27  B014ICEJ1Q  ...           $7.39\n",
              "46  B01NACPBG2  ...           $6.95\n",
              "\n",
              "[5 rows x 7 columns]"
            ]
          },
          "metadata": {
            "tags": []
          },
          "execution_count": 6
        }
      ]
    },
    {
      "cell_type": "code",
      "metadata": {
        "id": "EgBwXyvpjvKM",
        "colab": {
          "base_uri": "https://localhost:8080/"
        },
        "outputId": "90457c6d-fff2-486e-ef60-347692edf126"
      },
      "source": [
        "from sklearn.feature_extraction.text import TfidfVectorizer\n",
        "tfidf_title = TfidfVectorizer(min_df = 0)\n",
        "tfidf_feature_title = tfidf_title.fit_transform(data['title'])\n",
        "tfidf_feature_title.shape\n"
      ],
      "execution_count": null,
      "outputs": [
        {
          "output_type": "execute_result",
          "data": {
            "text/plain": [
              "(16042, 9737)"
            ]
          },
          "metadata": {
            "tags": []
          },
          "execution_count": 7
        }
      ]
    },
    {
      "cell_type": "markdown",
      "metadata": {
        "id": "guAKOqmUr-w_"
      },
      "source": [
        "## Manhattan Distance #"
      ]
    },
    {
      "cell_type": "code",
      "metadata": {
        "id": "_ePfhnDfjvKR",
        "colab": {
          "base_uri": "https://localhost:8080/",
          "height": 1000
        },
        "outputId": "dfabe22a-2c0f-48c2-8e46-b1c091ce2fb8"
      },
      "source": [
        "from IPython.display import display, Image, SVG, Math, YouTubeVideo\n",
        "from sklearn.metrics import pairwise_distances\n",
        "from sklearn.metrics.pairwise import pairwise_kernels\n",
        "\n",
        "from sklearn.metrics.pairwise import manhattan_distances\n",
        "def tfIdf_model(data_id, numOfResults):\n",
        "    pairwise_dist = manhattan_distances(tfidf_feature_title,tfidf_feature_title[data_id])\n",
        "    indices = np.argsort(pairwise_dist.flatten())[0:numOfResults]\n",
        "    pdists  = np.sort(pairwise_dist.flatten())[0:numOfResults]\n",
        "    df_indices = list(data.index[indices])\n",
        "    for i in range(0,len(indices)):\n",
        "        #get_result(indices[i],data['title'].loc[df_indices[0]], data['title'].loc[df_indices[i]],)\n",
        "        print('ASIN :',data['asin'].loc[df_indices[i]])\n",
        "        print ('Brand:', data['brand'].loc[df_indices[i]])\n",
        "        print ('Title:', data['title'].loc[df_indices[i]])\n",
        "        print('Image: ')\n",
        "        display(Image(url=data['medium_image_url'].loc[df_indices[i]],embed = True ))\n",
        "        print('Manhattan similarity with the query image :', pdists[i])\n",
        "        print('='*60)\n",
        "tfIdf_model(16, 20)"
      ],
      "execution_count": null,
      "outputs": [
        {
          "output_type": "stream",
          "text": [
            "ASIN : B073WKCX36\n",
            "Brand: Fjallraven\n",
            "Title: fjallraven women s alphabotanical t shirt lily m\n",
            "Image: \n"
          ],
          "name": "stdout"
        },
        {
          "output_type": "display_data",
          "data": {
            "image/jpeg": "[encoded data removed]",
            "text/plain": [
              "<IPython.core.display.Image object>"
            ]
          },
          "metadata": {
            "tags": []
          }
        },
        {
          "output_type": "stream",
          "text": [
            "Manhattan similarity with the query image : 0.0\n",
            "============================================================\n",
            "ASIN : B06XC3CZF6\n",
            "Brand: Fjallraven\n",
            "Title: fjallraven women s ovik t shirt plum xxl\n",
            "Image: \n"
          ],
          "name": "stdout"
        },
        {
          "output_type": "display_data",
          "data": {
            "image/jpeg": "[encoded data removed]",
            "text/plain": [
              "<IPython.core.display.Image object>"
            ]
          },
          "metadata": {
            "tags": []
          }
        },
        {
          "output_type": "stream",
          "text": [
            "Manhattan similarity with the query image : 2.5421404731507615\n",
            "============================================================\n",
            "ASIN : B06XDD9XX6\n",
            "Brand: Fjallraven\n",
            "Title: fjallraven women s meadow t shirt green xxs\n",
            "Image: \n"
          ],
          "name": "stdout"
        },
        {
          "output_type": "display_data",
          "data": {
            "image/jpeg": "[encoded data removed]",
            "text/plain": [
              "<IPython.core.display.Image object>"
            ]
          },
          "metadata": {
            "tags": []
          }
        },
        {
          "output_type": "stream",
          "text": [
            "Manhattan similarity with the query image : 2.546141777391603\n",
            "============================================================\n",
            "ASIN : B01GXAZT4C\n",
            "Brand: Tony Arden\n",
            "Title: chicago chicago women t shirt blue\n",
            "Image: \n"
          ],
          "name": "stdout"
        },
        {
          "output_type": "display_data",
          "data": {
            "image/jpeg": "[encoded data removed]",
            "text/plain": [
              "<IPython.core.display.Image object>"
            ]
          },
          "metadata": {
            "tags": []
          }
        },
        {
          "output_type": "stream",
          "text": [
            "Manhattan similarity with the query image : 2.8772682252353845\n",
            "============================================================\n",
            "ASIN : B01GXAZTRY\n",
            "Brand: Tony Arden\n",
            "Title: chicago chicago t shirt women pink\n",
            "Image: \n"
          ],
          "name": "stdout"
        },
        {
          "output_type": "display_data",
          "data": {
            "image/jpeg": "[encoded data removed]",
            "text/plain": [
              "<IPython.core.display.Image object>"
            ]
          },
          "metadata": {
            "tags": []
          }
        },
        {
          "output_type": "stream",
          "text": [
            "Manhattan similarity with the query image : 2.896386515959134\n",
            "============================================================\n",
            "ASIN : B06X19BNJB\n",
            "Brand: Fjallraven\n",
            "Title: fjallraven women s ovik t shirt ocean mist xs\n",
            "Image: \n"
          ],
          "name": "stdout"
        },
        {
          "output_type": "display_data",
          "data": {
            "image/jpeg": "[encoded data removed]",
            "text/plain": [
              "<IPython.core.display.Image object>"
            ]
          },
          "metadata": {
            "tags": []
          }
        },
        {
          "output_type": "stream",
          "text": [
            "Manhattan similarity with the query image : 2.9336279480070164\n",
            "============================================================\n",
            "ASIN : B01NBTWIOM\n",
            "Brand: Fjallraven\n",
            "Title: fjallraven women s ovik longsleeve top navy xs\n",
            "Image: \n"
          ],
          "name": "stdout"
        },
        {
          "output_type": "display_data",
          "data": {
            "image/jpeg": "[encoded data removed]",
            "text/plain": [
              "<IPython.core.display.Image object>"
            ]
          },
          "metadata": {
            "tags": []
          }
        },
        {
          "output_type": "stream",
          "text": [
            "Manhattan similarity with the query image : 3.0642127919988056\n",
            "============================================================\n",
            "ASIN : B01ND0FEE9\n",
            "Brand: Weston\n",
            "Title: weston women s lily tank multi color large\n",
            "Image: \n"
          ],
          "name": "stdout"
        },
        {
          "output_type": "display_data",
          "data": {
            "image/jpeg": "[encoded data removed]",
            "text/plain": [
              "<IPython.core.display.Image object>"
            ]
          },
          "metadata": {
            "tags": []
          }
        },
        {
          "output_type": "stream",
          "text": [
            "Manhattan similarity with the query image : 3.10113748825736\n",
            "============================================================\n",
            "ASIN : B005IT8OBA\n",
            "Brand: Hetalia\n",
            "Title: hetalia u s girl t shirt m\n",
            "Image: \n"
          ],
          "name": "stdout"
        },
        {
          "output_type": "display_data",
          "data": {
            "image/jpeg": "[encoded data removed]",
            "text/plain": [
              "<IPython.core.display.Image object>"
            ]
          },
          "metadata": {
            "tags": []
          }
        },
        {
          "output_type": "stream",
          "text": [
            "Manhattan similarity with the query image : 3.178258895563687\n",
            "============================================================\n",
            "ASIN : B072YLH4NS\n",
            "Brand: BURBERRY\n",
            "Title: burberry women s white v neck t shirt l\n",
            "Image: \n"
          ],
          "name": "stdout"
        },
        {
          "output_type": "display_data",
          "data": {
            "image/jpeg": "[encoded data removed]",
            "text/plain": [
              "<IPython.core.display.Image object>"
            ]
          },
          "metadata": {
            "tags": []
          }
        },
        {
          "output_type": "stream",
          "text": [
            "Manhattan similarity with the query image : 3.2194431462933295\n",
            "============================================================\n",
            "ASIN : B01GXAZPRS\n",
            "Brand: Tony Arden\n",
            "Title: chicago chicago woman s t shirt black\n",
            "Image: \n"
          ],
          "name": "stdout"
        },
        {
          "output_type": "display_data",
          "data": {
            "image/jpeg": "[encoded data removed]",
            "text/plain": [
              "<IPython.core.display.Image object>"
            ]
          },
          "metadata": {
            "tags": []
          }
        },
        {
          "output_type": "stream",
          "text": [
            "Manhattan similarity with the query image : 3.220489473850521\n",
            "============================================================\n",
            "ASIN : B01H51HDN8\n",
            "Brand: Tony Arden\n",
            "Title: duran duran greatest women t shirt white\n",
            "Image: \n"
          ],
          "name": "stdout"
        },
        {
          "output_type": "display_data",
          "data": {
            "image/jpeg": "[encoded data removed]",
            "text/plain": [
              "<IPython.core.display.Image object>"
            ]
          },
          "metadata": {
            "tags": []
          }
        },
        {
          "output_type": "stream",
          "text": [
            "Manhattan similarity with the query image : 3.2205394511501284\n",
            "============================================================\n",
            "ASIN : B01H51HH6G\n",
            "Brand: Tony Arden\n",
            "Title: duran duran greatest t shirt women white\n",
            "Image: \n"
          ],
          "name": "stdout"
        },
        {
          "output_type": "display_data",
          "data": {
            "image/jpeg": "[encoded data removed]",
            "text/plain": [
              "<IPython.core.display.Image object>"
            ]
          },
          "metadata": {
            "tags": []
          }
        },
        {
          "output_type": "stream",
          "text": [
            "Manhattan similarity with the query image : 3.2205394511501284\n",
            "============================================================\n",
            "ASIN : B0749P1W78\n",
            "Brand: MISOOK\n",
            "Title: misook womens misook tank m\n",
            "Image: \n"
          ],
          "name": "stdout"
        },
        {
          "output_type": "display_data",
          "data": {
            "image/jpeg": "[encoded data removed]",
            "text/plain": [
              "<IPython.core.display.Image object>"
            ]
          },
          "metadata": {
            "tags": []
          }
        },
        {
          "output_type": "stream",
          "text": [
            "Manhattan similarity with the query image : 3.2372648074400003\n",
            "============================================================\n",
            "ASIN : B0713Q513M\n",
            "Brand: CBK\n",
            "Title: cbk t shirt ambre women m white\n",
            "Image: \n"
          ],
          "name": "stdout"
        },
        {
          "output_type": "display_data",
          "data": {
            "image/jpeg": "[encoded data removed]",
            "text/plain": [
              "<IPython.core.display.Image object>"
            ]
          },
          "metadata": {
            "tags": []
          }
        },
        {
          "output_type": "stream",
          "text": [
            "Manhattan similarity with the query image : 3.2574620746647347\n",
            "============================================================\n",
            "ASIN : B074KBRNX5\n",
            "Brand: Sunshine\n",
            "Title: women s v neck sexy mature t shirt\n",
            "Image: \n"
          ],
          "name": "stdout"
        },
        {
          "output_type": "display_data",
          "data": {
            "image/jpeg": "[encoded data removed]",
            "text/plain": [
              "<IPython.core.display.Image object>"
            ]
          },
          "metadata": {
            "tags": []
          }
        },
        {
          "output_type": "stream",
          "text": [
            "Manhattan similarity with the query image : 3.2623241125240527\n",
            "============================================================\n",
            "ASIN : B01CK3TYW4\n",
            "Brand: Fenini\n",
            "Title: women s fenini black patch shirt x\n",
            "Image: \n"
          ],
          "name": "stdout"
        },
        {
          "output_type": "display_data",
          "data": {
            "image/jpeg": "[encoded data removed]",
            "text/plain": [
              "<IPython.core.display.Image object>"
            ]
          },
          "metadata": {
            "tags": []
          }
        },
        {
          "output_type": "stream",
          "text": [
            "Manhattan similarity with the query image : 3.2767052394970784\n",
            "============================================================\n",
            "ASIN : B007TVDEG0\n",
            "Brand: Tokidoki\n",
            "Title: tokidoki harmony women s shirt small\n",
            "Image: \n"
          ],
          "name": "stdout"
        },
        {
          "output_type": "display_data",
          "data": {
            "image/jpeg": "[encoded data removed]",
            "text/plain": [
              "<IPython.core.display.Image object>"
            ]
          },
          "metadata": {
            "tags": []
          }
        },
        {
          "output_type": "stream",
          "text": [
            "Manhattan similarity with the query image : 3.2814882138623758\n",
            "============================================================\n",
            "ASIN : B01N5OKGNQ\n",
            "Brand: Fjällräven\n",
            "Title: fjallraven women s abisko trail t shirt print dark grey xl\n",
            "Image: \n"
          ],
          "name": "stdout"
        },
        {
          "output_type": "display_data",
          "data": {
            "image/jpeg": "[encoded data removed]",
            "text/plain": [
              "<IPython.core.display.Image object>"
            ]
          },
          "metadata": {
            "tags": []
          }
        },
        {
          "output_type": "stream",
          "text": [
            "Manhattan similarity with the query image : 3.2984115322272967\n",
            "============================================================\n",
            "ASIN : B072L1N7TN\n",
            "Brand: CBK\n",
            "Title: cbk t shirt maria women s green\n",
            "Image: \n"
          ],
          "name": "stdout"
        },
        {
          "output_type": "display_data",
          "data": {
            "image/jpeg": "[encoded data removed]",
            "text/plain": [
              "<IPython.core.display.Image object>"
            ]
          },
          "metadata": {
            "tags": []
          }
        },
        {
          "output_type": "stream",
          "text": [
            "Manhattan similarity with the query image : 3.3234513506461605\n",
            "============================================================\n"
          ],
          "name": "stdout"
        }
      ]
    },
    {
      "cell_type": "markdown",
      "metadata": {
        "id": "3N4cqwo2r63Q"
      },
      "source": [
        "## Euclidean Distance"
      ]
    },
    {
      "cell_type": "code",
      "metadata": {
        "id": "aQZ4D0E3jvKd",
        "colab": {
          "base_uri": "https://localhost:8080/",
          "height": 1000
        },
        "outputId": "66b749c8-26ee-41d9-d2d8-9a513cb134c9"
      },
      "source": [
        "from IPython.display import display, Image, SVG, Math, YouTubeVideo\n",
        "from sklearn.metrics import pairwise_distances\n",
        "from sklearn.metrics.pairwise import pairwise_kernels\n",
        "\n",
        "from sklearn.metrics.pairwise import euclidean_distances\n",
        "def tfIdf_model(data_id, numOfResults):\n",
        "    pairwise_dist = euclidean_distances(tfidf_feature_title,tfidf_feature_title[data_id])\n",
        "    indices = np.argsort(pairwise_dist.flatten())[0:numOfResults]\n",
        "    pdists  = np.sort(pairwise_dist.flatten())[0:numOfResults]\n",
        "    df_indices = list(data.index[indices])\n",
        "    for i in range(0,len(indices)):\n",
        "        #get_result(indices[i],data['title'].loc[df_indices[0]], data['title'].loc[df_indices[i]],)\n",
        "        print('ASIN :',data['asin'].loc[df_indices[i]])\n",
        "        print ('Brand:', data['brand'].loc[df_indices[i]])\n",
        "        print ('Title:', data['title'].loc[df_indices[i]])\n",
        "        print('Image: ')\n",
        "        display(Image(url=data['medium_image_url'].loc[df_indices[i]],embed = True ))\n",
        "        print('Euclidean similarity with the query image :', pdists[i])\n",
        "        print('='*60)\n",
        "tfIdf_model(16, 10)"
      ],
      "execution_count": null,
      "outputs": [
        {
          "output_type": "stream",
          "text": [
            "ASIN : B073WKCX36\n",
            "Brand: Fjallraven\n",
            "Title: fjallraven women s alphabotanical t shirt lily m\n",
            "Image: \n"
          ],
          "name": "stdout"
        },
        {
          "output_type": "display_data",
          "data": {
            "image/jpeg": "[encoded data removed]",
            "text/plain": [
              "<IPython.core.display.Image object>"
            ]
          },
          "metadata": {
            "tags": []
          }
        },
        {
          "output_type": "stream",
          "text": [
            "Euclidean similarity with the query image : 0.0\n",
            "============================================================\n",
            "ASIN : B06XDD9XX6\n",
            "Brand: Fjallraven\n",
            "Title: fjallraven women s meadow t shirt green xxs\n",
            "Image: \n"
          ],
          "name": "stdout"
        },
        {
          "output_type": "display_data",
          "data": {
            "image/jpeg": "[encoded data removed]",
            "text/plain": [
              "<IPython.core.display.Image object>"
            ]
          },
          "metadata": {
            "tags": []
          }
        },
        {
          "output_type": "stream",
          "text": [
            "Euclidean similarity with the query image : 1.1564043329956413\n",
            "============================================================\n",
            "ASIN : B06XR1NGMN\n",
            "Brand: Lily Star\n",
            "Title: lily star womens lattice sleeve v neck top coral s lily star juniors\n",
            "Image: \n"
          ],
          "name": "stdout"
        },
        {
          "output_type": "display_data",
          "data": {
            "image/jpeg": "[encoded data removed]",
            "text/plain": [
              "<IPython.core.display.Image object>"
            ]
          },
          "metadata": {
            "tags": []
          }
        },
        {
          "output_type": "stream",
          "text": [
            "Euclidean similarity with the query image : 1.1659993358581195\n",
            "============================================================\n",
            "ASIN : B06XC3CZF6\n",
            "Brand: Fjallraven\n",
            "Title: fjallraven women s ovik t shirt plum xxl\n",
            "Image: \n"
          ],
          "name": "stdout"
        },
        {
          "output_type": "display_data",
          "data": {
            "image/jpeg": "[encoded data removed]",
            "text/plain": [
              "<IPython.core.display.Image object>"
            ]
          },
          "metadata": {
            "tags": []
          }
        },
        {
          "output_type": "stream",
          "text": [
            "Euclidean similarity with the query image : 1.1671556582207452\n",
            "============================================================\n",
            "ASIN : B01NBTWIOM\n",
            "Brand: Fjallraven\n",
            "Title: fjallraven women s ovik longsleeve top navy xs\n",
            "Image: \n"
          ],
          "name": "stdout"
        },
        {
          "output_type": "display_data",
          "data": {
            "image/jpeg": "[encoded data removed]",
            "text/plain": [
              "<IPython.core.display.Image object>"
            ]
          },
          "metadata": {
            "tags": []
          }
        },
        {
          "output_type": "stream",
          "text": [
            "Euclidean similarity with the query image : 1.1972860085424297\n",
            "============================================================\n",
            "ASIN : B06X19BNJB\n",
            "Brand: Fjallraven\n",
            "Title: fjallraven women s ovik t shirt ocean mist xs\n",
            "Image: \n"
          ],
          "name": "stdout"
        },
        {
          "output_type": "display_data",
          "data": {
            "image/jpeg": "[encoded data removed]",
            "text/plain": [
              "<IPython.core.display.Image object>"
            ]
          },
          "metadata": {
            "tags": []
          }
        },
        {
          "output_type": "stream",
          "text": [
            "Euclidean similarity with the query image : 1.2012017490557128\n",
            "============================================================\n",
            "ASIN : B01N34KHL4\n",
            "Brand: Lily White\n",
            "Title: lily white blue small junior plaid button down shirt green s\n",
            "Image: \n"
          ],
          "name": "stdout"
        },
        {
          "output_type": "display_data",
          "data": {
            "image/jpeg": "[encoded data removed]",
            "text/plain": [
              "<IPython.core.display.Image object>"
            ]
          },
          "metadata": {
            "tags": []
          }
        },
        {
          "output_type": "stream",
          "text": [
            "Euclidean similarity with the query image : 1.2018495494561003\n",
            "============================================================\n",
            "ASIN : B01LZO8D1I\n",
            "Brand: Lily White\n",
            "Title: lily white juniors short sleeve woven top x large green\n",
            "Image: \n"
          ],
          "name": "stdout"
        },
        {
          "output_type": "display_data",
          "data": {
            "image/jpeg": "[encoded data removed]",
            "text/plain": [
              "<IPython.core.display.Image object>"
            ]
          },
          "metadata": {
            "tags": []
          }
        },
        {
          "output_type": "stream",
          "text": [
            "Euclidean similarity with the query image : 1.2046399606521174\n",
            "============================================================\n",
            "ASIN : B07335VNKM\n",
            "Brand: Lily White\n",
            "Title: lily white women s medium ruffled solid seamed blouse black m\n",
            "Image: \n"
          ],
          "name": "stdout"
        },
        {
          "output_type": "display_data",
          "data": {
            "image/jpeg": "[encoded data removed]",
            "text/plain": [
              "<IPython.core.display.Image object>"
            ]
          },
          "metadata": {
            "tags": []
          }
        },
        {
          "output_type": "stream",
          "text": [
            "Euclidean similarity with the query image : 1.2091634547730188\n",
            "============================================================\n",
            "ASIN : B0751N7PHJ\n",
            "Brand: Lily White\n",
            "Title: lily white womens large striped printed henley blouse green l\n",
            "Image: \n"
          ],
          "name": "stdout"
        },
        {
          "output_type": "display_data",
          "data": {
            "image/jpeg": "[encoded data removed]",
            "text/plain": [
              "<IPython.core.display.Image object>"
            ]
          },
          "metadata": {
            "tags": []
          }
        },
        {
          "output_type": "stream",
          "text": [
            "Euclidean similarity with the query image : 1.210400559222552\n",
            "============================================================\n"
          ],
          "name": "stdout"
        }
      ]
    },
    {
      "cell_type": "markdown",
      "metadata": {
        "id": "mM2tFByprz8x"
      },
      "source": [
        "## Cosine distance"
      ]
    },
    {
      "cell_type": "code",
      "metadata": {
        "colab": {
          "base_uri": "https://localhost:8080/",
          "height": 1000
        },
        "id": "dVslK3CR-TKS",
        "outputId": "2a302024-c8f7-4acc-faa5-22812e83013e"
      },
      "source": [
        "from IPython.display import display, Image, SVG, Math, YouTubeVideo\n",
        "from sklearn.metrics import pairwise_distances\n",
        "from sklearn.metrics.pairwise import pairwise_kernels\n",
        "\n",
        "from sklearn.metrics.pairwise import cosine_distances\n",
        "def tfIdf_model(data_id, numOfResults):\n",
        "    pairwise_dist = cosine_distances(tfidf_feature_title,tfidf_feature_title[data_id])\n",
        "    indices = np.argsort(pairwise_dist.flatten())[0:numOfResults]\n",
        "    pdists  = np.sort(pairwise_dist.flatten())[0:numOfResults]\n",
        "    df_indices = list(data.index[indices])\n",
        "    for i in range(0,len(indices)):\n",
        "        #get_result(indices[i],data['title'].loc[df_indices[0]], data['title'].loc[df_indices[i]],)\n",
        "        print('ASIN :',data['asin'].loc[df_indices[i]])\n",
        "        print ('Brand:', data['brand'].loc[df_indices[i]])\n",
        "        print ('Title:', data['title'].loc[df_indices[i]])\n",
        "        print('Image: ')\n",
        "        display(Image(url=data['medium_image_url'].loc[df_indices[i]],embed = True ))\n",
        "        print('Cosine distance with the query image :', pdists[i])\n",
        "        print('='*60)\n",
        "tfIdf_model(16, 10)"
      ],
      "execution_count": null,
      "outputs": [
        {
          "output_type": "stream",
          "text": [
            "ASIN : B073WKCX36\n",
            "Brand: Fjallraven\n",
            "Title: Fjallraven - Women's Alphabotanical T-Shirt, Lily, M\n",
            "Image: \n"
          ],
          "name": "stdout"
        },
        {
          "output_type": "display_data",
          "data": {
            "image/jpeg": "[encoded data removed]",
            "text/plain": [
              "<IPython.core.display.Image object>"
            ]
          },
          "metadata": {
            "tags": []
          }
        },
        {
          "output_type": "stream",
          "text": [
            "Cosine distance with the query image : 0.0\n",
            "============================================================\n",
            "ASIN : B06XDD9XX6\n",
            "Brand: Fjallraven\n",
            "Title: Fjallraven - Women's Meadow T-shirt, Green, XXS\n",
            "Image: \n"
          ],
          "name": "stdout"
        },
        {
          "output_type": "display_data",
          "data": {
            "image/jpeg": "[encoded data removed]",
            "text/plain": [
              "<IPython.core.display.Image object>"
            ]
          },
          "metadata": {
            "tags": []
          }
        },
        {
          "output_type": "stream",
          "text": [
            "Cosine distance with the query image : 0.668635490685547\n",
            "============================================================\n",
            "ASIN : B06XR1NGMN\n",
            "Brand: Lily Star\n",
            "Title: Lily Star Womens Lattice Sleeve V-neck Top Coral S - Lily Star (Juniors)\n",
            "Image: \n"
          ],
          "name": "stdout"
        },
        {
          "output_type": "display_data",
          "data": {
            "image/jpeg": "[encoded data removed]",
            "text/plain": [
              "<IPython.core.display.Image object>"
            ]
          },
          "metadata": {
            "tags": []
          }
        },
        {
          "output_type": "stream",
          "text": [
            "Cosine distance with the query image : 0.6797772256107879\n",
            "============================================================\n",
            "ASIN : B06XC3CZF6\n",
            "Brand: Fjallraven\n",
            "Title: Fjallraven - Women's Ovik T-Shirt, Plum, XXL\n",
            "Image: \n"
          ],
          "name": "stdout"
        },
        {
          "output_type": "display_data",
          "data": {
            "image/jpeg": "[encoded data removed]",
            "text/plain": [
              "<IPython.core.display.Image object>"
            ]
          },
          "metadata": {
            "tags": []
          }
        },
        {
          "output_type": "stream",
          "text": [
            "Cosine distance with the query image : 0.6811261652583505\n",
            "============================================================\n",
            "ASIN : B01NBTWIOM\n",
            "Brand: Fjallraven\n",
            "Title: Fjallraven - Women's Ovik Longsleeve Top, Navy, XS\n",
            "Image: \n"
          ],
          "name": "stdout"
        },
        {
          "output_type": "display_data",
          "data": {
            "image/jpeg": "[encoded data removed]",
            "text/plain": [
              "<IPython.core.display.Image object>"
            ]
          },
          "metadata": {
            "tags": []
          }
        },
        {
          "output_type": "stream",
          "text": [
            "Cosine distance with the query image : 0.7167468931257315\n",
            "============================================================\n",
            "ASIN : B06X19BNJB\n",
            "Brand: Fjallraven\n",
            "Title: Fjallraven - Women's Ovik T-Shirt, Ocean Mist, XS\n",
            "Image: \n"
          ],
          "name": "stdout"
        },
        {
          "output_type": "display_data",
          "data": {
            "image/jpeg": "[encoded data removed]",
            "text/plain": [
              "<IPython.core.display.Image object>"
            ]
          },
          "metadata": {
            "tags": []
          }
        },
        {
          "output_type": "stream",
          "text": [
            "Cosine distance with the query image : 0.7214428209672518\n",
            "============================================================\n",
            "ASIN : B01N34KHL4\n",
            "Brand: Lily White\n",
            "Title: Lily White Blue Small Junior Plaid Button Down Shirt Green S\n",
            "Image: \n"
          ],
          "name": "stdout"
        },
        {
          "output_type": "display_data",
          "data": {
            "image/jpeg": "[encoded data removed]",
            "text/plain": [
              "<IPython.core.display.Image object>"
            ]
          },
          "metadata": {
            "tags": []
          }
        },
        {
          "output_type": "stream",
          "text": [
            "Cosine distance with the query image : 0.7222211697639158\n",
            "============================================================\n",
            "ASIN : B01LZO8D1I\n",
            "Brand: Lily White\n",
            "Title: Lily White Juniors Short Sleeve Woven Top X-Large Green\n",
            "Image: \n"
          ],
          "name": "stdout"
        },
        {
          "output_type": "display_data",
          "data": {
            "image/jpeg": "[encoded data removed]",
            "text/plain": [
              "<IPython.core.display.Image object>"
            ]
          },
          "metadata": {
            "tags": []
          }
        },
        {
          "output_type": "stream",
          "text": [
            "Cosine distance with the query image : 0.7255787173999675\n",
            "============================================================\n",
            "ASIN : B07335VNKM\n",
            "Brand: Lily White\n",
            "Title: Lily White Women's Medium Ruffled Solid Seamed Blouse Black M\n",
            "Image: \n"
          ],
          "name": "stdout"
        },
        {
          "output_type": "display_data",
          "data": {
            "image/jpeg": "[encoded data removed]",
            "text/plain": [
              "<IPython.core.display.Image object>"
            ]
          },
          "metadata": {
            "tags": []
          }
        },
        {
          "output_type": "stream",
          "text": [
            "Cosine distance with the query image : 0.731038130179311\n",
            "============================================================\n",
            "ASIN : B0751N7PHJ\n",
            "Brand: Lily White\n",
            "Title: Lily White Womens Large Striped Printed Henley Blouse Green L\n",
            "Image: \n"
          ],
          "name": "stdout"
        },
        {
          "output_type": "display_data",
          "data": {
            "image/jpeg": "[encoded data removed]",
            "text/plain": [
              "<IPython.core.display.Image object>"
            ]
          },
          "metadata": {
            "tags": []
          }
        },
        {
          "output_type": "stream",
          "text": [
            "Cosine distance with the query image : 0.7325347568831333\n",
            "============================================================\n"
          ],
          "name": "stdout"
        }
      ]
    },
    {
      "cell_type": "markdown",
      "metadata": {
        "id": "GgXOMUsPHgca"
      },
      "source": [
        "### IMAGE BASED RECOMMENDATION ###"
      ]
    },
    {
      "cell_type": "code",
      "metadata": {
        "id": "R0E6GyroHrs3"
      },
      "source": [
        "img_width, img_height = 224, 224\n",
        "\n",
        "top_model_weights_path = 'bottleneck_fc_model.h5'\n",
        "train_data_dir = 'images2/'\n",
        "nb_train_samples = 16042\n",
        "epochs = 50\n",
        "batch_size = 1\n",
        "\n",
        "\n",
        "def save_bottlebeck_features():\n",
        "    \n",
        "    #Function to compute VGG-16 CNN for image feature extraction.\n",
        "    \n",
        "    asins = []\n",
        "    datagen = ImageDataGenerator(rescale=1. / 255)\n",
        "    \n",
        "    # build the VGG16 network\n",
        "    model = applications.VGG16(include_top=False, weights='imagenet')\n",
        "    generator = datagen.flow_from_directory(\n",
        "        train_data_dir,\n",
        "        target_size=(img_width, img_height),\n",
        "        batch_size=batch_size,\n",
        "        class_mode=None,\n",
        "        shuffle=False)\n",
        "\n",
        "    for i in generator.filenames:\n",
        "        asins.append(i[2:-5])\n",
        "\n",
        "    bottleneck_features_train = model.predict_generator(generator, nb_train_samples // batch_size)\n",
        "    bottleneck_features_train = bottleneck_features_train.reshape((16042,25088))\n",
        "    \n",
        "    np.save(open('/content/drive/MyDrive/recommendor/16k_data_cnn_feature_asins.npy', 'wb'), bottleneck_features_train)\n",
        "    np.save(open('/content/drive/My Drive/recommendor/16k_apperal_data', 'wb'), np.array(asins))\n",
        "    \n",
        "\n",
        "save_bottlebeck_features()"
      ],
      "execution_count": null,
      "outputs": []
    },
    {
      "cell_type": "code",
      "metadata": {
        "id": "FyvNwx4Y6CwG"
      },
      "source": [
        "ModifiedDataAsin = np.load('/content/drive/MyDrive/recommendor/16k_data_cnn_feature_asins.npy')"
      ],
      "execution_count": null,
      "outputs": []
    },
    {
      "cell_type": "code",
      "metadata": {
        "id": "dXHnKvRkjvKf",
        "colab": {
          "base_uri": "https://localhost:8080/"
        },
        "outputId": "09f70e6a-c810-47ea-a0af-4217ef2731e6"
      },
      "source": [
        "ModifiedDataPostCNN = np.load('/content/drive/MyDrive/recommendor/16k_data_cnn_features.npy')\n",
        "data = pd.read_pickle('/content/drive/My Drive/recommendor/16k_apperal_data')\n",
        "print(ModifiedDataPostCNN.shape)\n",
        "print(data.shape)"
      ],
      "execution_count": null,
      "outputs": [
        {
          "output_type": "stream",
          "text": [
            "(16042, 25088)\n",
            "(16042, 7)\n"
          ],
          "name": "stdout"
        }
      ]
    },
    {
      "cell_type": "code",
      "metadata": {
        "id": "lPTxSo_MBD3j"
      },
      "source": [
        "ModifiedDataAsin = list(ModifiedDataAsin)"
      ],
      "execution_count": null,
      "outputs": []
    },
    {
      "cell_type": "markdown",
      "metadata": {
        "id": "aEZnor-zrwzS"
      },
      "source": [
        "## Euclidean Distance"
      ]
    },
    {
      "cell_type": "code",
      "metadata": {
        "colab": {
          "base_uri": "https://localhost:8080/",
          "height": 1000
        },
        "id": "nCCUMxe84PY8",
        "outputId": "ad6a5d5d-2090-43d1-f5f2-d60a81ec85d2"
      },
      "source": [
        "from IPython.display import display, Image, SVG, Math, YouTubeVideo\n",
        "from sklearn.metrics import pairwise_distances\n",
        "from sklearn.metrics import euclidean_distances\n",
        "df_asins = list(data['asin'])\n",
        "def ImageBasedReccomendation(data_id, numOfResults):\n",
        "    data_id = ModifiedDataAsin.index(df_asins[data_id])\n",
        "    PairWiseFunction = euclidean_distances(ModifiedDataPostCNN,ModifiedDataPostCNN[data_id].reshape(1,-1))\n",
        "    indices = np.argsort(PairWiseFunction.flatten())[0:numOfResults]\n",
        "    distances = np.sort(PairWiseFunction.flatten())[0:numOfResults]\n",
        "    for i in range(len(indices)):\n",
        "        rows = data[['medium_image_url','title']].loc[data['asin'] == ModifiedDataAsin[indices[i]]]\n",
        "        for index,row in rows.iterrows():\n",
        "            display(\"Image:\",Image(url=row['medium_image_url'], embed=True))\n",
        "            print(\"Title :\",row['title'])\n",
        "            print(\"Distance from the Query image :\",distances[i])\n",
        "            print('*'*70)\n",
        "            \n",
        "    \n",
        "ImageBasedReccomendation(124, 10)"
      ],
      "execution_count": null,
      "outputs": [
        {
          "output_type": "display_data",
          "data": {
            "application/vnd.google.colaboratory.intrinsic+json": {
              "type": "string"
            },
            "text/plain": [
              "'Image:'"
            ]
          },
          "metadata": {
            "tags": []
          }
        },
        {
          "output_type": "display_data",
          "data": {
            "image/jpeg": "[encoded data removed]",
            "text/plain": [
              "<IPython.core.display.Image object>"
            ]
          },
          "metadata": {
            "tags": []
          }
        },
        {
          "output_type": "stream",
          "text": [
            "Title : Women's Cute Tshirt - My Chemical Romance DeepHeather Size M\n",
            "Distance from the Query image : 6.031566e-06\n",
            "**********************************************************************\n"
          ],
          "name": "stdout"
        },
        {
          "output_type": "display_data",
          "data": {
            "application/vnd.google.colaboratory.intrinsic+json": {
              "type": "string"
            },
            "text/plain": [
              "'Image:'"
            ]
          },
          "metadata": {
            "tags": []
          }
        },
        {
          "output_type": "display_data",
          "data": {
            "image/jpeg": "[encoded data removed]",
            "text/plain": [
              "<IPython.core.display.Image object>"
            ]
          },
          "metadata": {
            "tags": []
          }
        },
        {
          "output_type": "stream",
          "text": [
            "Title : HUBA Women's Tees Hope Solo DeepHeather Size XS\n",
            "Distance from the Query image : 18.706451\n",
            "**********************************************************************\n"
          ],
          "name": "stdout"
        },
        {
          "output_type": "display_data",
          "data": {
            "application/vnd.google.colaboratory.intrinsic+json": {
              "type": "string"
            },
            "text/plain": [
              "'Image:'"
            ]
          },
          "metadata": {
            "tags": []
          }
        },
        {
          "output_type": "display_data",
          "data": {
            "image/jpeg": "[encoded data removed]",
            "text/plain": [
              "<IPython.core.display.Image object>"
            ]
          },
          "metadata": {
            "tags": []
          }
        },
        {
          "output_type": "stream",
          "text": [
            "Title : Women's Cute Tshirts - My Chemical Romance Purple Size XXL\n",
            "Distance from the Query image : 20.165726\n",
            "**********************************************************************\n"
          ],
          "name": "stdout"
        },
        {
          "output_type": "display_data",
          "data": {
            "application/vnd.google.colaboratory.intrinsic+json": {
              "type": "string"
            },
            "text/plain": [
              "'Image:'"
            ]
          },
          "metadata": {
            "tags": []
          }
        },
        {
          "output_type": "display_data",
          "data": {
            "image/jpeg": "[encoded data removed]",
            "text/plain": [
              "<IPython.core.display.Image object>"
            ]
          },
          "metadata": {
            "tags": []
          }
        },
        {
          "output_type": "stream",
          "text": [
            "Title : ZEKO Women's Tees The United Arab Emirates Flag Dubai Size L DeepHeather\n",
            "Distance from the Query image : 20.853035\n",
            "**********************************************************************\n"
          ],
          "name": "stdout"
        },
        {
          "output_type": "display_data",
          "data": {
            "application/vnd.google.colaboratory.intrinsic+json": {
              "type": "string"
            },
            "text/plain": [
              "'Image:'"
            ]
          },
          "metadata": {
            "tags": []
          }
        },
        {
          "output_type": "display_data",
          "data": {
            "image/jpeg": "[encoded data removed]",
            "text/plain": [
              "<IPython.core.display.Image object>"
            ]
          },
          "metadata": {
            "tags": []
          }
        },
        {
          "output_type": "stream",
          "text": [
            "Title : Supernatural Chibis Sam Dean And Castiel Cotton T Shirts For Women's DeepHeather XXL\n",
            "Distance from the Query image : 21.078283\n",
            "**********************************************************************\n"
          ],
          "name": "stdout"
        },
        {
          "output_type": "display_data",
          "data": {
            "application/vnd.google.colaboratory.intrinsic+json": {
              "type": "string"
            },
            "text/plain": [
              "'Image:'"
            ]
          },
          "metadata": {
            "tags": []
          }
        },
        {
          "output_type": "display_data",
          "data": {
            "image/jpeg": "[encoded data removed]",
            "text/plain": [
              "<IPython.core.display.Image object>"
            ]
          },
          "metadata": {
            "tags": []
          }
        },
        {
          "output_type": "stream",
          "text": [
            "Title : Supernatural Chibis Sam Dean And Castiel Cotton T-Shirt For Women DeepHeather XL\n",
            "Distance from the Query image : 21.078283\n",
            "**********************************************************************\n"
          ],
          "name": "stdout"
        },
        {
          "output_type": "display_data",
          "data": {
            "application/vnd.google.colaboratory.intrinsic+json": {
              "type": "string"
            },
            "text/plain": [
              "'Image:'"
            ]
          },
          "metadata": {
            "tags": []
          }
        },
        {
          "output_type": "display_data",
          "data": {
            "image/jpeg": "[encoded data removed]",
            "text/plain": [
              "<IPython.core.display.Image object>"
            ]
          },
          "metadata": {
            "tags": []
          }
        },
        {
          "output_type": "stream",
          "text": [
            "Title : Supernatural Chibis Sam Dean And Castiel O Neck T Shirt For Female DeepHeather L\n",
            "Distance from the Query image : 21.078283\n",
            "**********************************************************************\n"
          ],
          "name": "stdout"
        },
        {
          "output_type": "display_data",
          "data": {
            "application/vnd.google.colaboratory.intrinsic+json": {
              "type": "string"
            },
            "text/plain": [
              "'Image:'"
            ]
          },
          "metadata": {
            "tags": []
          }
        },
        {
          "output_type": "display_data",
          "data": {
            "image/jpeg": "[encoded data removed]",
            "text/plain": [
              "<IPython.core.display.Image object>"
            ]
          },
          "metadata": {
            "tags": []
          }
        },
        {
          "output_type": "stream",
          "text": [
            "Title : Supernatural Chibis Sam Dean And Castiel Organic Cotton T Shirts For Women's DeepHeather M\n",
            "Distance from the Query image : 21.078283\n",
            "**********************************************************************\n"
          ],
          "name": "stdout"
        },
        {
          "output_type": "display_data",
          "data": {
            "application/vnd.google.colaboratory.intrinsic+json": {
              "type": "string"
            },
            "text/plain": [
              "'Image:'"
            ]
          },
          "metadata": {
            "tags": []
          }
        },
        {
          "output_type": "display_data",
          "data": {
            "image/jpeg": "[encoded data removed]",
            "text/plain": [
              "<IPython.core.display.Image object>"
            ]
          },
          "metadata": {
            "tags": []
          }
        },
        {
          "output_type": "stream",
          "text": [
            "Title : Supernatural Chibis Sam Dean And Castiel Slim Fit T-Shirt For Women DeepHeather XS\n",
            "Distance from the Query image : 21.078283\n",
            "**********************************************************************\n"
          ],
          "name": "stdout"
        },
        {
          "output_type": "display_data",
          "data": {
            "application/vnd.google.colaboratory.intrinsic+json": {
              "type": "string"
            },
            "text/plain": [
              "'Image:'"
            ]
          },
          "metadata": {
            "tags": []
          }
        },
        {
          "output_type": "display_data",
          "data": {
            "image/jpeg": "[encoded data removed]",
            "text/plain": [
              "<IPython.core.display.Image object>"
            ]
          },
          "metadata": {
            "tags": []
          }
        },
        {
          "output_type": "stream",
          "text": [
            "Title : SHJQ Women's Tshirt Cute Lana Del Rey Black Size M\n",
            "Distance from the Query image : 22.077589\n",
            "**********************************************************************\n"
          ],
          "name": "stdout"
        }
      ]
    },
    {
      "cell_type": "markdown",
      "metadata": {
        "id": "7NkrLA-SroNC"
      },
      "source": [
        "## Manhattan Distance\n"
      ]
    },
    {
      "cell_type": "code",
      "metadata": {
        "colab": {
          "base_uri": "https://localhost:8080/",
          "height": 1000
        },
        "id": "7I762Lxi45gv",
        "outputId": "203a9a38-49e6-433b-e3d4-ea4d629ff740"
      },
      "source": [
        "from IPython.display import display, Image, SVG, Math, YouTubeVideo\n",
        "from sklearn.metrics import pairwise_distances\n",
        "from sklearn.metrics.pairwise import manhattan_distances\n",
        "df_asins = list(data['asin'])\n",
        "def ImageBasedReccomendation(data_id, numOfResults):\n",
        "    data_id = ModifiedDataAsin.index(df_asins[data_id])\n",
        "    PairWiseFunction = manhattan_distances(ModifiedDataPostCNN,ModifiedDataPostCNN[data_id].reshape(1,-1))\n",
        "    indices = np.argsort(PairWiseFunction.flatten())[0:numOfResults]\n",
        "    distances = np.sort(PairWiseFunction.flatten())[0:numOfResults]\n",
        "    for i in range(len(indices)):\n",
        "        rows = data[['medium_image_url','title']].loc[data['asin'] == ModifiedDataAsin[indices[i]]]\n",
        "        for index,row in rows.iterrows():\n",
        "            display(\"Image:\",Image(url=row['medium_image_url'], embed=True))\n",
        "            print(\"Title :\",row['title'])\n",
        "            print(\"Distance from the Query image :\",distances[i])\n",
        "            print('*'*70)\n",
        "            \n",
        "    \n",
        "ImageBasedReccomendation(124, 10)"
      ],
      "execution_count": null,
      "outputs": [
        {
          "output_type": "display_data",
          "data": {
            "application/vnd.google.colaboratory.intrinsic+json": {
              "type": "string"
            },
            "text/plain": [
              "'Image:'"
            ]
          },
          "metadata": {
            "tags": []
          }
        },
        {
          "output_type": "display_data",
          "data": {
            "image/jpeg": "[encoded data removed]",
            "text/plain": [
              "<IPython.core.display.Image object>"
            ]
          },
          "metadata": {
            "tags": []
          }
        },
        {
          "output_type": "stream",
          "text": [
            "Title : Women's Cute Tshirt - My Chemical Romance DeepHeather Size M\n",
            "Distance from the Query image : 0.0\n",
            "**********************************************************************\n"
          ],
          "name": "stdout"
        },
        {
          "output_type": "display_data",
          "data": {
            "application/vnd.google.colaboratory.intrinsic+json": {
              "type": "string"
            },
            "text/plain": [
              "'Image:'"
            ]
          },
          "metadata": {
            "tags": []
          }
        },
        {
          "output_type": "display_data",
          "data": {
            "image/jpeg": "[encoded data removed]",
            "text/plain": [
              "<IPython.core.display.Image object>"
            ]
          },
          "metadata": {
            "tags": []
          }
        },
        {
          "output_type": "stream",
          "text": [
            "Title : HUBA Women's Tees Hope Solo DeepHeather Size XS\n",
            "Distance from the Query image : 812.1986904918449\n",
            "**********************************************************************\n"
          ],
          "name": "stdout"
        },
        {
          "output_type": "display_data",
          "data": {
            "application/vnd.google.colaboratory.intrinsic+json": {
              "type": "string"
            },
            "text/plain": [
              "'Image:'"
            ]
          },
          "metadata": {
            "tags": []
          }
        },
        {
          "output_type": "display_data",
          "data": {
            "image/jpeg": "[encoded data removed]",
            "text/plain": [
              "<IPython.core.display.Image object>"
            ]
          },
          "metadata": {
            "tags": []
          }
        },
        {
          "output_type": "stream",
          "text": [
            "Title : Supernatural Chibis Sam Dean And Castiel Slim Fit T-Shirt For Women DeepHeather XS\n",
            "Distance from the Query image : 876.0909720622003\n",
            "**********************************************************************\n"
          ],
          "name": "stdout"
        },
        {
          "output_type": "display_data",
          "data": {
            "application/vnd.google.colaboratory.intrinsic+json": {
              "type": "string"
            },
            "text/plain": [
              "'Image:'"
            ]
          },
          "metadata": {
            "tags": []
          }
        },
        {
          "output_type": "display_data",
          "data": {
            "image/jpeg": "[encoded data removed]",
            "text/plain": [
              "<IPython.core.display.Image object>"
            ]
          },
          "metadata": {
            "tags": []
          }
        },
        {
          "output_type": "stream",
          "text": [
            "Title : Supernatural Chibis Sam Dean And Castiel O Neck T Shirt For Female DeepHeather L\n",
            "Distance from the Query image : 876.0909720622003\n",
            "**********************************************************************\n"
          ],
          "name": "stdout"
        },
        {
          "output_type": "display_data",
          "data": {
            "application/vnd.google.colaboratory.intrinsic+json": {
              "type": "string"
            },
            "text/plain": [
              "'Image:'"
            ]
          },
          "metadata": {
            "tags": []
          }
        },
        {
          "output_type": "display_data",
          "data": {
            "image/jpeg": "[encoded data removed]",
            "text/plain": [
              "<IPython.core.display.Image object>"
            ]
          },
          "metadata": {
            "tags": []
          }
        },
        {
          "output_type": "stream",
          "text": [
            "Title : Supernatural Chibis Sam Dean And Castiel Cotton T Shirts For Women's DeepHeather XXL\n",
            "Distance from the Query image : 876.0909720622003\n",
            "**********************************************************************\n"
          ],
          "name": "stdout"
        },
        {
          "output_type": "display_data",
          "data": {
            "application/vnd.google.colaboratory.intrinsic+json": {
              "type": "string"
            },
            "text/plain": [
              "'Image:'"
            ]
          },
          "metadata": {
            "tags": []
          }
        },
        {
          "output_type": "display_data",
          "data": {
            "image/jpeg": "[encoded data removed]",
            "text/plain": [
              "<IPython.core.display.Image object>"
            ]
          },
          "metadata": {
            "tags": []
          }
        },
        {
          "output_type": "stream",
          "text": [
            "Title : Supernatural Chibis Sam Dean And Castiel Cotton T-Shirt For Women DeepHeather XL\n",
            "Distance from the Query image : 876.0909720622003\n",
            "**********************************************************************\n"
          ],
          "name": "stdout"
        },
        {
          "output_type": "display_data",
          "data": {
            "application/vnd.google.colaboratory.intrinsic+json": {
              "type": "string"
            },
            "text/plain": [
              "'Image:'"
            ]
          },
          "metadata": {
            "tags": []
          }
        },
        {
          "output_type": "display_data",
          "data": {
            "image/jpeg": "[encoded data removed]",
            "text/plain": [
              "<IPython.core.display.Image object>"
            ]
          },
          "metadata": {
            "tags": []
          }
        },
        {
          "output_type": "stream",
          "text": [
            "Title : Supernatural Chibis Sam Dean And Castiel Organic Cotton T Shirts For Women's DeepHeather M\n",
            "Distance from the Query image : 876.0909720622003\n",
            "**********************************************************************\n"
          ],
          "name": "stdout"
        },
        {
          "output_type": "display_data",
          "data": {
            "application/vnd.google.colaboratory.intrinsic+json": {
              "type": "string"
            },
            "text/plain": [
              "'Image:'"
            ]
          },
          "metadata": {
            "tags": []
          }
        },
        {
          "output_type": "display_data",
          "data": {
            "image/jpeg": "[encoded data removed]",
            "text/plain": [
              "<IPython.core.display.Image object>"
            ]
          },
          "metadata": {
            "tags": []
          }
        },
        {
          "output_type": "stream",
          "text": [
            "Title : ZEKO Women's Tees The United Arab Emirates Flag Dubai Size L DeepHeather\n",
            "Distance from the Query image : 940.5334843848832\n",
            "**********************************************************************\n"
          ],
          "name": "stdout"
        },
        {
          "output_type": "display_data",
          "data": {
            "application/vnd.google.colaboratory.intrinsic+json": {
              "type": "string"
            },
            "text/plain": [
              "'Image:'"
            ]
          },
          "metadata": {
            "tags": []
          }
        },
        {
          "output_type": "display_data",
          "data": {
            "image/jpeg": "[encoded data removed]",
            "text/plain": [
              "<IPython.core.display.Image object>"
            ]
          },
          "metadata": {
            "tags": []
          }
        },
        {
          "output_type": "stream",
          "text": [
            "Title : H'nan Women's Mass Effect Spectre Short Sleeve Shirt DeepHeather XL\n",
            "Distance from the Query image : 1034.7733739642426\n",
            "**********************************************************************\n"
          ],
          "name": "stdout"
        },
        {
          "output_type": "display_data",
          "data": {
            "application/vnd.google.colaboratory.intrinsic+json": {
              "type": "string"
            },
            "text/plain": [
              "'Image:'"
            ]
          },
          "metadata": {
            "tags": []
          }
        },
        {
          "output_type": "display_data",
          "data": {
            "image/jpeg": "[encoded data removed]",
            "text/plain": [
              "<IPython.core.display.Image object>"
            ]
          },
          "metadata": {
            "tags": []
          }
        },
        {
          "output_type": "stream",
          "text": [
            "Title : H'nan Womens Mass Effect Spectre O-Neck Shirt DeepHeather S\n",
            "Distance from the Query image : 1034.7733739642426\n",
            "**********************************************************************\n"
          ],
          "name": "stdout"
        }
      ]
    },
    {
      "cell_type": "markdown",
      "metadata": {
        "id": "h3xuKIv3rsvp"
      },
      "source": [
        "##Cosine Distance"
      ]
    },
    {
      "cell_type": "code",
      "metadata": {
        "colab": {
          "base_uri": "https://localhost:8080/",
          "height": 1000
        },
        "id": "7j1GS7Vv7m1-",
        "outputId": "961c86fa-468c-480f-bee4-1f0514964d3f"
      },
      "source": [
        "from IPython.display import display, Image, SVG, Math, YouTubeVideo\n",
        "from sklearn.metrics import pairwise_distances\n",
        "from sklearn.metrics.pairwise import cosine_distances\n",
        "df_asins = list(data['asin'])\n",
        "def ImageBasedReccomendation(data_id, numOfResults):\n",
        "    data_id = ModifiedDataAsin.index(df_asins[data_id])\n",
        "    PairWiseFunction = cosine_distances(ModifiedDataPostCNN,ModifiedDataPostCNN[data_id].reshape(1,-1))\n",
        "    indices = np.argsort(PairWiseFunction.flatten())[0:numOfResults]\n",
        "    distances = np.sort(PairWiseFunction.flatten())[0:numOfResults]\n",
        "    for i in range(len(indices)):\n",
        "        rows = data[['medium_image_url','title']].loc[data['asin'] == ModifiedDataAsin[indices[i]]]\n",
        "        for index,row in rows.iterrows():\n",
        "            display(\"Image:\",Image(url=row['medium_image_url'], embed=True))\n",
        "            print(\"Title :\",row['title'])\n",
        "            print(\"Distance from the Query image :\",distances[i])\n",
        "            print('*'*70)\n",
        "            \n",
        "    \n",
        "ImageBasedReccomendation(124, 10)"
      ],
      "execution_count": null,
      "outputs": [
        {
          "output_type": "display_data",
          "data": {
            "application/vnd.google.colaboratory.intrinsic+json": {
              "type": "string"
            },
            "text/plain": [
              "'Image:'"
            ]
          },
          "metadata": {
            "tags": []
          }
        },
        {
          "output_type": "display_data",
          "data": {
            "image/jpeg": "[encoded data removed]",
            "text/plain": [
              "<IPython.core.display.Image object>"
            ]
          },
          "metadata": {
            "tags": []
          }
        },
        {
          "output_type": "stream",
          "text": [
            "Title : Women's Cute Tshirt - My Chemical Romance DeepHeather Size M\n",
            "Distance from the Query image : 0.0\n",
            "**********************************************************************\n"
          ],
          "name": "stdout"
        },
        {
          "output_type": "display_data",
          "data": {
            "application/vnd.google.colaboratory.intrinsic+json": {
              "type": "string"
            },
            "text/plain": [
              "'Image:'"
            ]
          },
          "metadata": {
            "tags": []
          }
        },
        {
          "output_type": "display_data",
          "data": {
            "image/jpeg": "[encoded data removed]",
            "text/plain": [
              "<IPython.core.display.Image object>"
            ]
          },
          "metadata": {
            "tags": []
          }
        },
        {
          "output_type": "stream",
          "text": [
            "Title : HUBA Women's Tees Hope Solo DeepHeather Size XS\n",
            "Distance from the Query image : 0.019805968\n",
            "**********************************************************************\n"
          ],
          "name": "stdout"
        },
        {
          "output_type": "display_data",
          "data": {
            "application/vnd.google.colaboratory.intrinsic+json": {
              "type": "string"
            },
            "text/plain": [
              "'Image:'"
            ]
          },
          "metadata": {
            "tags": []
          }
        },
        {
          "output_type": "display_data",
          "data": {
            "image/jpeg": "[encoded data removed]",
            "text/plain": [
              "<IPython.core.display.Image object>"
            ]
          },
          "metadata": {
            "tags": []
          }
        },
        {
          "output_type": "stream",
          "text": [
            "Title : Women's Cute Tshirts - My Chemical Romance Purple Size XXL\n",
            "Distance from the Query image : 0.023108184\n",
            "**********************************************************************\n"
          ],
          "name": "stdout"
        },
        {
          "output_type": "display_data",
          "data": {
            "application/vnd.google.colaboratory.intrinsic+json": {
              "type": "string"
            },
            "text/plain": [
              "'Image:'"
            ]
          },
          "metadata": {
            "tags": []
          }
        },
        {
          "output_type": "display_data",
          "data": {
            "image/jpeg": "[encoded data removed]",
            "text/plain": [
              "<IPython.core.display.Image object>"
            ]
          },
          "metadata": {
            "tags": []
          }
        },
        {
          "output_type": "stream",
          "text": [
            "Title : ZEKO Women's Tees The United Arab Emirates Flag Dubai Size L DeepHeather\n",
            "Distance from the Query image : 0.024898887\n",
            "**********************************************************************\n"
          ],
          "name": "stdout"
        },
        {
          "output_type": "display_data",
          "data": {
            "application/vnd.google.colaboratory.intrinsic+json": {
              "type": "string"
            },
            "text/plain": [
              "'Image:'"
            ]
          },
          "metadata": {
            "tags": []
          }
        },
        {
          "output_type": "display_data",
          "data": {
            "image/jpeg": "[encoded data removed]",
            "text/plain": [
              "<IPython.core.display.Image object>"
            ]
          },
          "metadata": {
            "tags": []
          }
        },
        {
          "output_type": "stream",
          "text": [
            "Title : Supernatural Chibis Sam Dean And Castiel Cotton T Shirts For Women's DeepHeather XXL\n",
            "Distance from the Query image : 0.025243402\n",
            "**********************************************************************\n"
          ],
          "name": "stdout"
        },
        {
          "output_type": "display_data",
          "data": {
            "application/vnd.google.colaboratory.intrinsic+json": {
              "type": "string"
            },
            "text/plain": [
              "'Image:'"
            ]
          },
          "metadata": {
            "tags": []
          }
        },
        {
          "output_type": "display_data",
          "data": {
            "image/jpeg": "[encoded data removed]",
            "text/plain": [
              "<IPython.core.display.Image object>"
            ]
          },
          "metadata": {
            "tags": []
          }
        },
        {
          "output_type": "stream",
          "text": [
            "Title : Supernatural Chibis Sam Dean And Castiel Cotton T-Shirt For Women DeepHeather XL\n",
            "Distance from the Query image : 0.025243402\n",
            "**********************************************************************\n"
          ],
          "name": "stdout"
        },
        {
          "output_type": "display_data",
          "data": {
            "application/vnd.google.colaboratory.intrinsic+json": {
              "type": "string"
            },
            "text/plain": [
              "'Image:'"
            ]
          },
          "metadata": {
            "tags": []
          }
        },
        {
          "output_type": "display_data",
          "data": {
            "image/jpeg": "[encoded data removed]",
            "text/plain": [
              "<IPython.core.display.Image object>"
            ]
          },
          "metadata": {
            "tags": []
          }
        },
        {
          "output_type": "stream",
          "text": [
            "Title : Supernatural Chibis Sam Dean And Castiel O Neck T Shirt For Female DeepHeather L\n",
            "Distance from the Query image : 0.025243402\n",
            "**********************************************************************\n"
          ],
          "name": "stdout"
        },
        {
          "output_type": "display_data",
          "data": {
            "application/vnd.google.colaboratory.intrinsic+json": {
              "type": "string"
            },
            "text/plain": [
              "'Image:'"
            ]
          },
          "metadata": {
            "tags": []
          }
        },
        {
          "output_type": "display_data",
          "data": {
            "image/jpeg": "[encoded data removed]",
            "text/plain": [
              "<IPython.core.display.Image object>"
            ]
          },
          "metadata": {
            "tags": []
          }
        },
        {
          "output_type": "stream",
          "text": [
            "Title : Supernatural Chibis Sam Dean And Castiel Organic Cotton T Shirts For Women's DeepHeather M\n",
            "Distance from the Query image : 0.025243402\n",
            "**********************************************************************\n"
          ],
          "name": "stdout"
        },
        {
          "output_type": "display_data",
          "data": {
            "application/vnd.google.colaboratory.intrinsic+json": {
              "type": "string"
            },
            "text/plain": [
              "'Image:'"
            ]
          },
          "metadata": {
            "tags": []
          }
        },
        {
          "output_type": "display_data",
          "data": {
            "image/jpeg": "[encoded data removed]",
            "text/plain": [
              "<IPython.core.display.Image object>"
            ]
          },
          "metadata": {
            "tags": []
          }
        },
        {
          "output_type": "stream",
          "text": [
            "Title : Supernatural Chibis Sam Dean And Castiel Slim Fit T-Shirt For Women DeepHeather XS\n",
            "Distance from the Query image : 0.025243402\n",
            "**********************************************************************\n"
          ],
          "name": "stdout"
        },
        {
          "output_type": "display_data",
          "data": {
            "application/vnd.google.colaboratory.intrinsic+json": {
              "type": "string"
            },
            "text/plain": [
              "'Image:'"
            ]
          },
          "metadata": {
            "tags": []
          }
        },
        {
          "output_type": "display_data",
          "data": {
            "image/jpeg": "[encoded data removed]",
            "text/plain": [
              "<IPython.core.display.Image object>"
            ]
          },
          "metadata": {
            "tags": []
          }
        },
        {
          "output_type": "stream",
          "text": [
            "Title : SHJQ Women's Tshirt Cute Lana Del Rey Black Size M\n",
            "Distance from the Query image : 0.027955592\n",
            "**********************************************************************\n"
          ],
          "name": "stdout"
        }
      ]
    },
    {
      "cell_type": "code",
      "metadata": {
        "id": "1FWaLcABHAPg"
      },
      "source": [
        ""
      ],
      "execution_count": null,
      "outputs": []
    }
  ]
}